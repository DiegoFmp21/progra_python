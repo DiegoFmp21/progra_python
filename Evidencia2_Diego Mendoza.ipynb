{
  "metadata": {
    "kernelspec": {
      "name": "python",
      "display_name": "Python (Pyodide)",
      "language": "python"
    },
    "language_info": {
      "codemirror_mode": {
        "name": "python",
        "version": 3
      },
      "file_extension": ".py",
      "mimetype": "text/x-python",
      "name": "python",
      "nbconvert_exporter": "python",
      "pygments_lexer": "ipython3",
      "version": "3.8"
    }
  },
  "nbformat_minor": 5,
  "nbformat": 4,
  "cells": [
    {
      "cell_type": "code",
      "source": "class EquipoDeFutbolMexicano:\n    # Método constructor que inicializa la clase con nombre, ciudad, y año de fundación\n    def __init__(self, nombre, ciudad, fundacion):\n        self.nombre = nombre\n        self.ciudad = ciudad\n        self.fundacion = fundacion\n\n    # Método para obtener el nombre del equipo\n    def obtener_nombre(self):\n        return self.nombre\n\n    # Método para obtener la ciudad del equipo\n    def obtener_ciudad(self):\n        return self.ciudad\n\n    # Método para obtener el año de fundación del equipo\n    def obtener_fundacion(self):\n        return self.fundacion\n\n    # Método para imprimir información del equipo\n    def mostrar_informacion(self):\n        print(f\"Equipo: {self.nombre}, Ciudad: {self.ciudad}, Fundado en: {self.fundacion}\")\n\n    # Método para expresar el espíritu del equipo\n    def comentario_cliche(self):\n        print(f\"¡{self.nombre} es un equipo lleno de pasión y orgullo!\")\n\n# Crear instancias de la clase EquipoDeFutbolMexicano\nequipo1 = EquipoDeFutbolMexicano(\"Monterrey\", \"Nuevo Leon\", 1945)\nequipo2 = EquipoDeFutbolMexicano(\"Tigres\", \"Nuevo Leon\", 1960)\n\n# Imprimir información de los equipos\nequipo1.mostrar_informacion()\nequipo2.mostrar_informacion()\n\n# Mostrar el espíritu de los equipos\nequipo1.comentario_cliche()\nequipo2.comentario_cliche()\n",
      "metadata": {
        "trusted": true
      },
      "execution_count": 5,
      "outputs": [
        {
          "name": "stdout",
          "text": "Equipo: Monterrey, Ciudad: Nuevo Leon, Fundado en: 1945\nEquipo: Tigres, Ciudad: Nuevo Leon, Fundado en: 1960\n¡Monterrey es un equipo lleno de pasión y orgullo!\n¡Tigres es un equipo lleno de pasión y orgullo!\n",
          "output_type": "stream"
        }
      ],
      "id": "20cc261f-1d25-4c05-bb31-e64ff5a982f9"
    },
    {
      "cell_type": "markdown",
      "source": "En este ejemplo, creamos la clase EquipoDeFutbolMexicano con atributos como nombre, ciudad y fundacion. Luego, creamos dos instancias de esta clase (equipo1 y equipo2) representando a dos equipos de fútbol mexicanos famosos (Monterrey y Tigres). Finalmente, imprimimos información sobre cada equipo y hacemos un comentario llamativo con el nombre de comentario_cliche.\n\n\n\n\n\n",
      "metadata": {},
      "id": "7009df0e-9b1f-43ee-bfaf-e5f48e4fec66"
    },
    {
      "cell_type": "code",
      "source": "",
      "metadata": {},
      "execution_count": null,
      "outputs": [],
      "id": "a3f9428a-1907-411d-acd0-c8f33f4f7dca"
    }
  ]
}