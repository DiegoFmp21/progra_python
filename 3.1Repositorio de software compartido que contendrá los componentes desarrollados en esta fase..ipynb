{
  "metadata": {
    "kernelspec": {
      "name": "python",
      "display_name": "Python (Pyodide)",
      "language": "python"
    },
    "language_info": {
      "codemirror_mode": {
        "name": "python",
        "version": 3
      },
      "file_extension": ".py",
      "mimetype": "text/x-python",
      "name": "python",
      "nbconvert_exporter": "python",
      "pygments_lexer": "ipython3",
      "version": "3.8"
    }
  },
  "nbformat_minor": 5,
  "nbformat": 4,
  "cells": [
    {
      "cell_type": "code",
      "source": "import pickle\n\n# Clase para representar datos de usuario\nclass DatosUsuario:\n    def __init__(self, username, email, puntos):\n        self.username = username\n        self.email = email\n        self.puntos = puntos\n\n    def mostrar_informacion(self):\n        print(f\"Usuario: {self.username}, Email: {self.email}, Puntos: {self.puntos}\")\n\n# Datos de usuario a almacenar\nusuario_nuevo = DatosUsuario(\"diegofmp21\", \"diego.mendozaprz@uanl.edu.mx\", 100)\n\n# Serializar y almacenar datos de usuario\narchivo_usuario = \"datos_usuario.pkl\"\nwith open(archivo_usuario, \"wb\") as archivo:\n    pickle.dump(usuario_nuevo, archivo)\n\nprint(f\"Datos de usuario almacenados en {archivo_usuario}\")\n\n# Recuperar datos de usuario\nwith open(archivo_usuario, \"rb\") as archivo:\n    usuario_recuperado = pickle.load(archivo)\n\n# Mostrar la información del usuario recuperado\nprint(\"Datos de usuario recuperados:\")\nusuario_recuperado.mostrar_informacion()\n",
      "metadata": {
        "trusted": true
      },
      "execution_count": null,
      "outputs": [
        {
          "name": "stdout",
          "text": "Datos de usuario almacenados en datos_usuario.pkl\n",
          "output_type": "stream"
        }
      ],
      "id": "20cc261f-1d25-4c05-bb31-e64ff5a982f9"
    }
  ]
}